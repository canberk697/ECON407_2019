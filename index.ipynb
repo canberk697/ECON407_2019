{
 "cells": [
  {
   "cell_type": "markdown",
   "metadata": {},
   "source": [
    "# Python Fundamentals\n",
    "\n",
    "In this section we start at the very basics\n",
    "\n",
    "We will talk about what a programming language is and how computers use\n",
    "them to do operations\n",
    "\n",
    "We will discuss why we chose the Python language for this course\n",
    "\n",
    "We will learn about core concepts like variables, data-types, and\n",
    "functions\n",
    "\n",
    "We will become familiar with the core data-types built in to Python,\n",
    "some standard functions we will use often throughout the rest of the\n",
    "course, and learn how to define our own functions\n",
    "\n",
    "By the end of this material you should have a solid grasp on core Python\n",
    "concepts and be prepared to study the next section on handling data\n",
    "\n",
    "- [Introduction](intro.ipynb)\n",
    "  - [Welcome](intro.ipynb#welcome)\n",
    "- [First Steps](basics.ipynb)\n",
    "  - [First Steps](basics.ipynb#id1)\n",
    "  - [Functions](basics.ipynb#functions)\n",
    "  - [Objects and types](basics.ipynb#objects-and-types)\n",
    "  - [Modules](basics.ipynb#modules)\n",
    "  - [Good code habits](basics.ipynb#good-code-habits)\n",
    "  - [Numbers](basics.ipynb#numbers)\n",
    "  - [Strings](basics.ipynb#strings)\n",
    "  - [Booleans](basics.ipynb#booleans)\n",
    "- [Collections](collections.ipynb)\n",
    "  - [Ordered Collections](collections.ipynb#ordered-collections)\n",
    "  - [Associative Collections](collections.ipynb#associative-collections)\n",
    "- [Control Flow](control_flow.ipynb)\n",
    "  - [Net Present Values and Asset Pricing](control_flow.ipynb#net-present-values-and-asset-pricing)\n",
    "  - [Conditional Statements](control_flow.ipynb#conditional-statements)\n",
    "  - [Iteration](control_flow.ipynb#iteration)\n",
    "- [Functions](functions.ipynb)\n",
    "  - [Application: Production Functions](functions.ipynb#application-production-functions)\n",
    "  - [What are (Python) functions?](functions.ipynb#what-are-python-functions)\n",
    "  - [How to define (Python) functions?](functions.ipynb#how-to-define-python-functions)"
   ]
  }
 ],
 "metadata": {
  "filename": "index.rst",
  "kernelspec": {
   "display_name": "Python",
   "language": "python3",
   "name": "python3"
  },
  "title": "Python Fundamentals"
 },
 "nbformat": 4,
 "nbformat_minor": 2
}