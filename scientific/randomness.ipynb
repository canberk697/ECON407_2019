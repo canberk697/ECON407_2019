{
 "cells": [
  {
   "cell_type": "markdown",
   "metadata": {},
   "source": [
    "# Randomness\n",
    "\n",
    "**Prerequisites**\n",
    "\n",
    "- [Introduction to Numpy](numpy_arrays.ipynb)  \n",
    "- [Applied Linear Algebra](applied_linalg.ipynb)  \n",
    "\n",
    "\n",
    "**Outcomes**\n",
    "\n",
    "- Recall basic probability  \n",
    "- Able to draw random numbers from numpy  \n",
    "- Understand why simulation is useful  \n",
    "- Simulate discrete and continuous random variables and processes  "
   ]
  },
  {
   "cell_type": "markdown",
   "metadata": {},
   "source": [
    "## Randomness in our world\n",
    "\n",
    "(TODO: Insert preamble that describes how data scientists, economists, and\n",
    "statisticians are forced to view the world in terms of probabilities because we\n",
    "don’t fully understand the relationships that we are studying.)\n",
    "\n",
    "We will use the `numpy.random` package to produce randomness in Python\n",
    "\n",
    "This lecture will present various probability distributions and then use\n",
    "numpy.random to numerically verify some of the facts associated with them\n",
    "\n",
    "We import `numpy` as usual"
   ]
  },
  {
   "cell_type": "code",
   "execution_count": 1,
   "metadata": {
    "hide-output": false
   },
   "outputs": [],
   "source": [
    "import numpy as np\n",
    "import matplotlib.pyplot as plt\n",
    "%matplotlib inline"
   ]
  },
  {
   "cell_type": "markdown",
   "metadata": {},
   "source": [
    "### Probability\n",
    "\n",
    "Before we move on to learning about how to use Python to generate randomness, we should make sure\n",
    "that we all agree on some basic concepts of probability\n",
    "\n",
    "In order to think about the probability of some event occurring, we must understand what possible\n",
    "events could occur – mathematicians refer to this as the *event space*\n",
    "\n",
    "Some examples are\n",
    "\n",
    "- For a coin flip, the coin could either come up heads, tails or land on its side  \n",
    "- The number of inches of rain falling in a certain location and on a given day could be any real\n",
    "  number between 0 and $ \\infty $  \n",
    "- The change in the price of a stock from the S&P500 could be any real number between\n",
    "  $ -`opening price and :math: $infty`  \n",
    "- An individual’s employment status tomorrow could either be employed or unemployed  \n",
    "- And the list goes on…  \n",
    "\n",
    "\n",
    "Notice that in some of these cases the event space can be counted (coin flip and employment status)\n",
    "while in others the event space can not be counted (rain and stock prices)\n",
    "\n",
    "We refer to random variables that have a countable event space as *discrete\n",
    "random variables* and random variables who have an uncountable event space as\n",
    "*continuous random variables*\n",
    "\n",
    "We associate certain numbers that we’ll call probabilities with events from the event space\n",
    "\n",
    "We require various things to be true about probabilities\n",
    "\n",
    "1. The probability of any event must be greater than or equal to 0  \n",
    "1. The probability of all events must sum (or integrate) to 1  \n",
    "1. If two events cannot occur at same time then the probability that at least one of them occurs is\n",
    "  the sum of the probabilities that each one occurs  \n",
    "\n",
    "\n",
    "We won’t rely on these for much of what we learn in this class, but occasionally these facts will\n",
    "help us reason about what is happening"
   ]
  },
  {
   "cell_type": "markdown",
   "metadata": {},
   "source": [
    "### Simulating randomness in Python\n",
    "\n",
    "One of the most basic random numbers is a variable that has equal probability of taking any value\n",
    "between 0 and 1\n",
    "\n",
    "You may have previously learned about this probability distribution as the\n",
    "Uniform(0, 1)\n",
    "\n",
    "Let’s dive right into generating some random numbers\n",
    "\n",
    "Run the code below multiple times and see what numbers you get"
   ]
  },
  {
   "cell_type": "code",
   "execution_count": 2,
   "metadata": {
    "hide-output": false
   },
   "outputs": [
    {
     "data": {
      "text/plain": [
       "0.9301095307668574"
      ]
     },
     "execution_count": 2,
     "metadata": {},
     "output_type": "execute_result"
    }
   ],
   "source": [
    "np.random.rand()"
   ]
  },
  {
   "cell_type": "markdown",
   "metadata": {},
   "source": [
    "We can also generate arrays of random numbers"
   ]
  },
  {
   "cell_type": "code",
   "execution_count": 3,
   "metadata": {
    "hide-output": false
   },
   "outputs": [
    {
     "data": {
      "text/plain": [
       "array([0.22587558, 0.40113488, 0.38501269, 0.96282306, 0.84011636,\n",
       "       0.90354017, 0.31877873, 0.11581478, 0.13993566, 0.68774122,\n",
       "       0.54072469, 0.88419923, 0.84200848, 0.4136247 , 0.97905147,\n",
       "       0.78365769, 0.62997459, 0.52613772, 0.88450458, 0.91975764,\n",
       "       0.56063079, 0.23517235, 0.20395286, 0.90889866, 0.91611614])"
      ]
     },
     "execution_count": 3,
     "metadata": {},
     "output_type": "execute_result"
    }
   ],
   "source": [
    "np.random.rand(25)"
   ]
  },
  {
   "cell_type": "code",
   "execution_count": 4,
   "metadata": {
    "hide-output": false
   },
   "outputs": [
    {
     "data": {
      "text/plain": [
       "array([[0.39196354, 0.08843824, 0.42466767, 0.76494863, 0.16750313],\n",
       "       [0.92171114, 0.85412168, 0.42853347, 0.47053977, 0.84313531],\n",
       "       [0.23854402, 0.04315069, 0.1048534 , 0.51485353, 0.20490493],\n",
       "       [0.83777417, 0.64426556, 0.62860686, 0.69442149, 0.87262549],\n",
       "       [0.15884791, 0.10382184, 0.70627858, 0.74290395, 0.50555725]])"
      ]
     },
     "execution_count": 4,
     "metadata": {},
     "output_type": "execute_result"
    }
   ],
   "source": [
    "np.random.rand(5, 5)"
   ]
  },
  {
   "cell_type": "code",
   "execution_count": 5,
   "metadata": {
    "hide-output": false
   },
   "outputs": [
    {
     "data": {
      "text/plain": [
       "array([[[0.2374266 , 0.57822156, 0.54386368, 0.71729679],\n",
       "        [0.60850164, 0.20121976, 0.11985409, 0.88337247],\n",
       "        [0.29593641, 0.67694286, 0.17878937, 0.7269207 ]],\n",
       "\n",
       "       [[0.58528724, 0.10065085, 0.8438808 , 0.57980119],\n",
       "        [0.16296308, 0.2154751 , 0.52027589, 0.66617519],\n",
       "        [0.36011763, 0.99058526, 0.09736183, 0.93695926]]])"
      ]
     },
     "execution_count": 5,
     "metadata": {},
     "output_type": "execute_result"
    }
   ],
   "source": [
    "np.random.rand(2, 3, 4)"
   ]
  },
  {
   "cell_type": "markdown",
   "metadata": {},
   "source": [
    "### Why do we need randomness?\n",
    "\n",
    "As economists and data scientists we study complex systems\n",
    "\n",
    "These systems have inherent randomness, but they do not readily reveal their underlying distribution to us\n",
    "\n",
    "In cases where we face this type of difficulty, we turn to a set of tools known\n",
    "as Monte Carlo methods\n",
    "\n",
    "These methods effectively boil down to repeatedly simulating some event (or\n",
    "events) and looking at the distribution of outcomes\n",
    "\n",
    "This is used to inform decisions in search and rescue missions, election\n",
    "predictions, sports, and even by the Federal Reserve\n",
    "\n",
    "The reasons that these types of methods work is a mathematical theorem known as\n",
    "the *Law of Large Numbers*\n",
    "\n",
    "The Law of Large Numbers basically says that as the number of times that we\n",
    "simulate some event goes to infinity that the outcomes will mimic the true\n",
    "distribution\n",
    "\n",
    "We already know how the uniform distribution looks, but let’s demonstrate\n",
    "how we might see the Law of Large Numbers at work in approximating the uniform\n",
    "distribution"
   ]
  },
  {
   "cell_type": "code",
   "execution_count": 6,
   "metadata": {
    "hide-output": false
   },
   "outputs": [
    {
     "data": {
      "image/png": "[encoded data removed]",
      "text/plain": [
       "<Figure size 432x288 with 3 Axes>"
      ]
     },
     "metadata": {
      "needs_background": "light"
     },
     "output_type": "display_data"
    }
   ],
   "source": [
    "# Draw various numbers of uniform[0, 1] random variables\n",
    "draws_10 = np.random.rand(10)\n",
    "draws_200 = np.random.rand(200)\n",
    "draws_10000 = np.random.rand(10_000)\n",
    "\n",
    "# Plot their histograms\n",
    "fig, ax = plt.subplots(3)\n",
    "\n",
    "ax[0].set_title(\"Histogram with 10 draws\")\n",
    "ax[0].hist(draws_10)\n",
    "\n",
    "ax[1].set_title(\"Histogram with 200 draws\")\n",
    "ax[1].hist(draws_200)\n",
    "\n",
    "ax[2].set_title(\"Histogram with 10,000 draws\")\n",
    "ax[2].hist(draws_10000)\n",
    "\n",
    "fig.tight_layout()"
   ]
  },
  {
   "cell_type": "markdown",
   "metadata": {},
   "source": [
    "<blockquote>\n",
    "\n",
    "**Check for understanding**\n",
    "\n",
    "Wikipedia, and other credible statistics sources, tell us that the mean and\n",
    "variance of the Uniform(0, 1) distribution are (1/2, 1/12) respectively\n",
    "\n",
    "How could we check whether the numpy random numbers approximate these\n",
    "values?\n",
    "\n",
    "\n",
    "</blockquote>"
   ]
  },
  {
   "cell_type": "markdown",
   "metadata": {},
   "source": [
    "### Discrete distributions\n",
    "\n",
    "Sometimes we will deal with variables of interest that can only take one of a\n",
    "few possible values\n",
    "\n",
    "We refer to this type of random variable as a discrete distribution\n",
    "\n",
    "For example, consider a company that makes small business loans\n",
    "\n",
    "Imagine that the loan requires a repayment of $ \\$25,000 $ and must be repaid 1 year\n",
    "after the loan was made\n",
    "\n",
    "The company discounts the future at 5%\n",
    "\n",
    "Additionally, the loans made are paid back in full with 75% probability,\n",
    "$ \\$12,500 $ of loan is repaid with probability 20%, and no repayment with 5%\n",
    "probability\n",
    "\n",
    "How much would the small business loan company be willing to loan small\n",
    "businesses if they’d like to – on average – break even?\n",
    "\n",
    "In this case, we can compute this by hand:\n",
    "\n",
    "The amount repaid, on average, is: $ 0.75(25,000) + 0.2(12,500) + 0.05(0) = 21,250 $\n",
    "\n",
    "Since we’ll receive that amount in one year, we have to discount it:\n",
    "$ \\frac{1}{1+0.05} 21,250 \\approx 20238 $\n",
    "\n",
    "We can now verify by simulating the outcomes of many loans"
   ]
  },
  {
   "cell_type": "code",
   "execution_count": 7,
   "metadata": {
    "hide-output": false
   },
   "outputs": [
    {
     "name": "stdout",
     "output_type": "stream",
     "text": [
      "20170.952380952378\n"
     ]
    }
   ],
   "source": [
    "# You'll see why we call it `_slow` soon :)\n",
    "def simulate_loan_repayments_slow(N, r=0.05, repayment_full=25_000.0,\n",
    "                                  repayment_part=12_500.0):\n",
    "    repayment_sims = np.zeros(N)\n",
    "    for i in range(N):\n",
    "        x = np.random.rand()  # Draw a random number\n",
    "\n",
    "        # Full repayment 75% of time\n",
    "        if x < 0.75:\n",
    "            repaid = repayment_full\n",
    "        elif x < 0.95:\n",
    "            repaid = repayment_part\n",
    "        else:\n",
    "            repaid = 0.0\n",
    "\n",
    "        repayment_sims[i] = (1 / (1 + r)) * repaid\n",
    "\n",
    "    return repayment_sims\n",
    "\n",
    "print(np.mean(simulate_loan_repayments_slow(25_000)))"
   ]
  },
  {
   "cell_type": "markdown",
   "metadata": {},
   "source": [
    "#### Aside: Vectorized computations\n",
    "\n",
    "The code above illustrates the concepts we were after, but is much slower than\n",
    "it needs to be\n",
    "\n",
    "Below is a version of our function that uses numpy arrays to do the computations\n",
    "instead of only storing the values"
   ]
  },
  {
   "cell_type": "code",
   "execution_count": 8,
   "metadata": {
    "hide-output": false
   },
   "outputs": [
    {
     "data": {
      "text/plain": [
       "21284.0"
      ]
     },
     "execution_count": 8,
     "metadata": {},
     "output_type": "execute_result"
    }
   ],
   "source": [
    "def simulate_loan_repayments(N, r=0.05, repayment_full=25_000.0,\n",
    "                             repayment_part=12_500.0):\n",
    "    \"\"\"\n",
    "    Simulate present value of N loans given values for discount rate and\n",
    "    repayment values\n",
    "    \"\"\"\n",
    "    random_numbers = np.random.rand(N)\n",
    "\n",
    "    # start as 0 -- no repayment\n",
    "    repayment_sims = np.zeros(N)\n",
    "\n",
    "    # adjust for full and partial repayment\n",
    "    partial = random_numbers <= 0.20\n",
    "    repayment_sims[partial] = repayment_part\n",
    "\n",
    "    full = ~partial & (random_numbers <= 0.95)\n",
    "    repayment_sims[full] = repayment_full\n",
    "\n",
    "    return repayment_sims\n",
    "\n",
    "np.mean(simulate_loan_repayments(25_000))"
   ]
  },
  {
   "cell_type": "markdown",
   "metadata": {},
   "source": [
    "We’ll quickly demonstrate the difference in time it takes to run both versions\n",
    "of our function:"
   ]
  },
  {
   "cell_type": "code",
   "execution_count": 9,
   "metadata": {
    "hide-output": false
   },
   "outputs": [
    {
     "name": "stdout",
     "output_type": "stream",
     "text": [
      "338 ms ± 40.7 ms per loop (mean ± std. dev. of 7 runs, 1 loop each)\n"
     ]
    }
   ],
   "source": [
    "%timeit simulate_loan_repayments_slow(250_000)"
   ]
  },
  {
   "cell_type": "code",
   "execution_count": 10,
   "metadata": {
    "hide-output": false
   },
   "outputs": [
    {
     "name": "stdout",
     "output_type": "stream",
     "text": [
      "8.08 ms ± 825 µs per loop (mean ± std. dev. of 7 runs, 100 loops each)\n"
     ]
    }
   ],
   "source": [
    "%timeit simulate_loan_repayments(250_000)"
   ]
  },
  {
   "cell_type": "markdown",
   "metadata": {},
   "source": [
    "The timings for my computer were 167 ms for `simulate_loan_repayments_slow` and 5.05 ms for `simulate_loan_repayments`\n",
    "\n",
    "This function is simple enough that both times are acceptable, but the 33x time difference could matter in a more complicated operation\n",
    "\n",
    "This illustrates a concept called *vectorization*, which is the name we give computations that operate on an entire array at a time\n",
    "\n",
    "In general numpy code that is *vectorized* will perform better than numpy code that operates on one element at a time\n",
    "\n",
    "For more information see the [QuantEcon lecture on performance Python](https://lectures.quantecon.org/py/numba.html) code"
   ]
  },
  {
   "cell_type": "markdown",
   "metadata": {},
   "source": [
    "#### Profitability threshold\n",
    "\n",
    "Rather than looking for the break even point, we might be interested in the\n",
    "largest loan size that ensures that in a year where we make 250 loans that we\n",
    "are profitable with 95% probability\n",
    "\n",
    "This is something that could be computed by hand, but it is much easier to get an answer through\n",
    "simulation!\n",
    "\n",
    "If we simulate 250 loans many times and keep track of what the outcomes look like then we can look\n",
    "at the the 5th percentile of total repayment to get the loan size needed for 95% probability of\n",
    "being profitable"
   ]
  },
  {
   "cell_type": "markdown",
   "metadata": {
    "hide-output": false
   },
   "source": [
    "```python\n",
    "def simulate_year_of_loans(N=250, K=1000):\n",
    "\n",
    "    # Create array where we store the values\n",
    "    avg_repayments = np.zeros(K)\n",
    "    for year in range(K):\n",
    "\n",
    "        repaid_year = 0.0\n",
    "        n_loans = simulate_loan_repayments(N)\n",
    "        avg_repayments[year] = n_loans.mean()\n",
    "\n",
    "    return avg_repayments\n",
    "\n",
    "loan_repayment_outcomes = simulate_year_of_loans(N=250)\n",
    "\n",
    "# Think about why we use the 5th percentile of outcomes to compute when we are profitable 95%\n",
    "# of time\n",
    "lro_5 = np.percentile(loan_repayment_outcomes, 0.05)\n",
    "\n",
    "print(\"The largest loan size such that we were profitable 95% of time is\")\n",
    "print(lro_5)\n",
    "```\n"
   ]
  },
  {
   "cell_type": "markdown",
   "metadata": {},
   "source": [
    "Now let’s consider what we could learn if our loan company had even more detailed information for\n",
    "how the life of their loans progressed"
   ]
  },
  {
   "cell_type": "markdown",
   "metadata": {},
   "source": [
    "#### Loan states\n",
    "\n",
    "Loans can have 3 potential statuses (or states):\n",
    "\n",
    "1. Repaying: Payments are being made on loan  \n",
    "1. Delinquency: No payments are currently being made, but they might be made in the future  \n",
    "1. Default: No payments are currently being made and no more payments will be made in future  \n",
    "\n",
    "\n",
    "The small business loans company knows the following:\n",
    "\n",
    "- If a loan is currently in repayment then it continues in repayment with 85% probability, it has a\n",
    "  10% probability of going into delinquency, and a 5% probability of going into default  \n",
    "- If a loan is currently in delinquency then it returns to repayment with 25% probability, it has a\n",
    "  60% probability of staying delinquent, and a 15% probability of going into default  \n",
    "- If a loan is currently in default then it has a 0% chance of returning to repayment or delinquency\n",
    "  and a 100% probability of staying in default.  \n",
    "\n",
    "\n",
    "For simplicity, let’s just imagine that 12 payments are made during the life of a loan even though\n",
    "this means people who experience delinquency won’t be required to repay their remaining balance\n",
    "\n",
    "Let’s write the code required to perform this dynamic simulation"
   ]
  },
  {
   "cell_type": "code",
   "execution_count": 11,
   "metadata": {
    "hide-output": false
   },
   "outputs": [],
   "source": [
    "def simulate_loan_lifetime(monthly_payment):\n",
    "\n",
    "    # Create arrays to store outputs\n",
    "    payments = np.zeros(12)\n",
    "    # Note: dtype 'U12' means a string with no more than 12 characters\n",
    "    statuses = np.array(4*[\"repaying\", \"delinquency\", \"default\"], dtype=\"U12\")\n",
    "\n",
    "    # Everyone is repaying during their first month\n",
    "    payments[0] = monthly_payment\n",
    "    statuses[0] = \"repaying\"\n",
    "\n",
    "    for month in range(1, 12):\n",
    "        rn = np.random.rand()\n",
    "\n",
    "        if (statuses[month-1] == \"repaying\"):\n",
    "            if rn < 0.85:\n",
    "                payments[month] = monthly_payment\n",
    "                statuses[month] = \"repaying\"\n",
    "            elif rn < 0.95:\n",
    "                payments[month] = 0.0\n",
    "                statuses[month] = \"delinquency\"\n",
    "            else:\n",
    "                payments[month] = 0.0\n",
    "                statuses[month] = \"default\"\n",
    "        elif (statuses[month-1] == \"delinquency\"):\n",
    "            if rn < 0.25:\n",
    "                payments[month] = monthly_payment\n",
    "                statuses[month] = \"repaying\"\n",
    "            elif rn < 0.85:\n",
    "                payments[month] = 0.0\n",
    "                statuses[month] = \"delinquency\"\n",
    "            else:\n",
    "                payments[month] = 0.0\n",
    "                statuses[month] = \"default\"\n",
    "        else:  # Default -- Stays in default after it gets there\n",
    "            payments[month] = 0.0\n",
    "            statuses[month] = \"default\"\n",
    "\n",
    "    return payments, statuses"
   ]
  },
  {
   "cell_type": "markdown",
   "metadata": {},
   "source": [
    "We can use this model of the world to answer even more questions than the last model!\n",
    "\n",
    "For example, we can think about things like\n",
    "\n",
    "- For the defaulted loans, how many payments did they make before going into default?  \n",
    "- For those who partially repaid, how much was repaid before the 12 months was over?  \n",
    "- etc…  \n",
    "\n",
    "\n",
    "Unbeknownst to you, we have just introduced a well known mathematical concept known as a Markov\n",
    "chain\n",
    "\n",
    "A Markov chain is a random process (Note: Random process is a sequence of random variables\n",
    "observed over time) where the probability of something happening tomorrow only depends on what we\n",
    "can observe today\n",
    "\n",
    "In our small business loan example, this just means that the small business loan’s repayment status\n",
    "tomorrow only depended on what its repayment status was today\n",
    "\n",
    "Markov chains often show up in economics and statistics so we decided a simple introduction would\n",
    "be helpful, but leave many details to the interested reader\n",
    "\n",
    "<blockquote>\n",
    "\n",
    "**Check for understanding**\n",
    "\n",
    "**TODO** write this exercise\n",
    "\n",
    "\n",
    "</blockquote>"
   ]
  },
  {
   "cell_type": "markdown",
   "metadata": {},
   "source": [
    "### Continuous distributions\n",
    "\n",
    "Recall that a continuous distribution is a distribution where the value can take on an uncountable number of values\n",
    "\n",
    "It differs from a discrete distribution in the sense that the events are not\n",
    "countable\n",
    "\n",
    "We can use simulation to learn things about continuous distributions just like we did with discrete\n",
    "distributions\n",
    "\n",
    "Let’s use simulation to study what is arguably the most commonly encountered\n",
    "distributions – the Normal distribution\n",
    "\n",
    "The Normal (sometimes referred to as the Gaussian distribution) is bell shaped and is completely\n",
    "described by the mean and variance of the distribution\n",
    "\n",
    "The mean is often referred to as $ \\mu $ and the variance is often referred\n",
    "to as $ \\sigma^2 $\n",
    "\n",
    "Let’s take a look at the Normal distribution"
   ]
  },
  {
   "cell_type": "code",
   "execution_count": 12,
   "metadata": {
    "hide-output": false
   },
   "outputs": [
    {
     "data": {
      "text/plain": [
       "[<matplotlib.lines.Line2D at 0x1a18e87f60>]"
      ]
     },
     "execution_count": 12,
     "metadata": {},
     "output_type": "execute_result"
    },
    {
     "data": {
      "image/png": "[encoded data removed]",
      "text/plain": [
       "<Figure size 432x288 with 1 Axes>"
      ]
     },
     "metadata": {
      "needs_background": "light"
     },
     "output_type": "display_data"
    }
   ],
   "source": [
    "# scipy is an extension of numpy and the stats\n",
    "# subpackage has lots of tools for working with\n",
    "# various distributions\n",
    "import scipy.stats as st\n",
    "\n",
    "x = np.linspace(-5, 5, 100)\n",
    "pdf_x = st.norm(0.0, 1.0).pdf(x)\n",
    "\n",
    "fig, ax = plt.subplots()\n",
    "\n",
    "ax.set_title(r\"Normal Distribution ($\\mu = 0, \\sigma = 1$)\")\n",
    "ax.plot(x, pdf_x)"
   ]
  },
  {
   "cell_type": "markdown",
   "metadata": {},
   "source": [
    "<blockquote>\n",
    "\n",
    "**Check for understanding**\n",
    "\n",
    "**TODO** write this exercise\n",
    "\n",
    "\n",
    "</blockquote>"
   ]
  }
 ],
 "metadata": {
  "filename": "randomness.rst",
  "kernelspec": {
   "display_name": "Python",
   "language": "python3",
   "name": "python3"
  },
  "language_info": {
   "codemirror_mode": {
    "name": "ipython",
    "version": 3
   },
   "file_extension": ".py",
   "mimetype": "text/x-python",
   "name": "python",
   "nbconvert_exporter": "python",
   "pygments_lexer": "ipython3",
   "version": "3.6.6"
  },
  "title": "Randomness"
 },
 "nbformat": 4,
 "nbformat_minor": 2
}
