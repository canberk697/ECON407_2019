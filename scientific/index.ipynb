{
 "cells": [
  {
   "cell_type": "markdown",
   "metadata": {},
   "source": [
    "# Scientific Computing\n",
    "\n",
    "TODO: Write introduction to scientific computing\n",
    "\n",
    "- [Introduction to Numpy](numpy_arrays.ipynb)\n",
    "  - [Numpy Arrays](numpy_arrays.ipynb#numpy-arrays)\n",
    "- [Plotting](plotting.ipynb)\n",
    "  - [Visualization](plotting.ipynb#visualization)\n",
    "  - [`matplotlib`](plotting.ipynb#matplotlib)\n",
    "- [Applied Linear Algebra](applied_linalg.ipynb)\n",
    "  - [Vectors and Matrices](applied_linalg.ipynb#vectors-and-matrices)\n",
    "- [Randomness](randomness.ipynb)\n",
    "  - [Randomness in our world](randomness.ipynb#randomness-in-our-world)\n",
    "- [Optimization](optimization.ipynb)\n",
    "  - [What is optimization?](optimization.ipynb#what-is-optimization)"
   ]
  }
 ],
 "metadata": {
  "filename": "index.rst",
  "kernelspec": {
   "display_name": "Python",
   "language": "python3",
   "name": "python3"
  },
  "language_info": {
   "codemirror_mode": {
    "name": "ipython",
    "version": 3
   },
   "file_extension": ".py",
   "mimetype": "text/x-python",
   "name": "python",
   "nbconvert_exporter": "python",
   "pygments_lexer": "ipython3",
   "version": "3.6.6"
  },
  "title": "Scientific Computing"
 },
 "nbformat": 4,
 "nbformat_minor": 2
}
