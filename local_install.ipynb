{
 "cells": [
  {
   "cell_type": "markdown",
   "metadata": {},
   "source": [
    "# Local Installation\n",
    "\n",
    "**Prerequisites**\n",
    "\n",
    "- None!  \n",
    "\n",
    "\n",
    "**Outcomes**\n",
    "\n",
    "- Install Python on your computer  \n",
    "- Know what the Jupyter notebook is  \n",
    "- Be able to start the Jupyter notebook on your computer  \n",
    "- Be able to open specific notebooks from your computer  "
   ]
  },
  {
   "cell_type": "markdown",
   "metadata": {},
   "source": [
    "## Installation\n",
    "\n",
    "Visit [continuum.io](https://www.anaconda.com/download) and download the\n",
    "Anaconda Python distribution for your operating system (Windows/Mac OS/Linux).\n",
    "Be sure to download the Python 3.X (where X is some number greater than or\n",
    "equal to 7) version, not the 2.7 version\n",
    "\n",
    "Now, buckle up. It’s time to begin."
   ]
  },
  {
   "cell_type": "markdown",
   "metadata": {},
   "source": [
    "### Intro to Jupyter\n",
    "\n",
    "- Most of the material will be administered using\n",
    "  [Jupyter](http://jupyter.org/) notebooks  \n",
    "- It is a file format that allows us to mix text, code, and output\n",
    "  -  Ideal for presentations/teaching and presenting results  \n",
    "- Has two components:\n",
    "  1. Server that is responsible for executing code (you can ignore this)\n",
    "  2. GUI that runs in your web browser (what we will interact with)  "
   ]
  },
  {
   "cell_type": "markdown",
   "metadata": {},
   "source": [
    "## Starting Jupyter\n",
    "\n",
    "Start the Jupyter notebook by following these steps\n",
    "\n",
    "1. Open a terminal\n",
    "  -  Windows: Open “Anaconda Command Prompt” (perhaps via search)\n",
    "  -  Mac OS: Open terminal (command+space => type terminal => press enter)\n",
    "  -  Linux: You probably know how, but, if not, then ask for help  \n",
    "1. Type `jupyter notebook` in the terminal and press enter  \n",
    "1. Keep the terminal open the whole time you’re working in the notebook  \n",
    "1. If your web browser doesn’t open, read what was written in terminal and look for something that looks like  "
   ]
  },
  {
   "cell_type": "markdown",
   "metadata": {
    "hide-output": false
   },
   "source": [
    "```markdown\n",
    "Copy/paste this URL into your browser when you connect for the first time,\n",
    "to login with a token:\n",
    "    http://localhost:8888/?token=9a39d3741a4f0b200c6e4b07d8e5c04a089899cddc72e7f8\n",
    "```\n"
   ]
  },
  {
   "cell_type": "markdown",
   "metadata": {},
   "source": [
    "and copy/paste the line starting with `http://` into your web browser."
   ]
  },
  {
   "cell_type": "markdown",
   "metadata": {},
   "source": [
    "## Opening this file\n",
    "\n",
    "- Once web browser is open, you should see something like this:  \n",
    "\n",
    "\n",
    "<img src=\"https://storage.googleapis.com/ds4e/_static/pyfun/jupyter_notebook.png\" alt=\"jupyter\\_notebook.png\" style=\"\">\n",
    "\n",
    "  \n",
    "- The filenames will be different  \n",
    "- It *should* list the contents of your personal home directory (folder)  \n",
    "\n",
    "\n",
    "<blockquote>\n",
    "\n",
    "**Check for understanding**\n",
    "\n",
    "Open this file in Jupyter by navigating to the Materials folder from before,\n",
    "then the `pyfun` folder, then click on the `intro.ipynb` file. (TODO:\n",
    "Make sure this matches where we tell them to store materials)\n",
    "\n",
    "\n",
    "</blockquote>"
   ]
  }
 ],
 "metadata": {
  "filename": "local_install.rst",
  "kernelspec": {
   "display_name": "Python",
   "language": "python3",
   "name": "python3"
  },
  "title": "Local Installation"
 },
 "nbformat": 4,
 "nbformat_minor": 2
}