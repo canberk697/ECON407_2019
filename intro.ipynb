{
 "cells": [
  {
   "cell_type": "markdown",
   "metadata": {},
   "source": [
    "# Introduction\n",
    "\n",
    "**Prerequisites**\n",
    "\n",
    "- Good attitude  \n",
    "- Good work ethic  \n",
    "\n",
    "\n",
    "**Outcomes**\n",
    "\n",
    "- Understand what a programming language is.  \n",
    "- Know why we chose Python  \n",
    "- Know what the Jupyter notebook is  \n",
    "- Know Jupyter notebook basics: cell modes, editing/evaluating cells  "
   ]
  },
  {
   "cell_type": "markdown",
   "metadata": {},
   "source": [
    "## Welcome\n",
    "\n",
    "Welcome to the start of your path to learning how to work with data in the\n",
    "Python programming language!\n",
    "\n",
    "A programming language is, loosely speaking, a structured subset of natural\n",
    "language (words) and special characters (e.g. `,` or `{`) that allow humans\n",
    "to describe operations they would like their computer to perform on their behalf\n",
    "\n",
    "It is then the job of the programming language to translate these words and\n",
    "symbols into instructions the computer can execute"
   ]
  },
  {
   "cell_type": "markdown",
   "metadata": {},
   "source": [
    "### Why Python?\n",
    "\n",
    "There are hundreds of programming languages to choose from\n",
    "\n",
    "We have chosen to teach you Python… You might wonder why we made this decision\n",
    "\n",
    "We feel it is a great choice for analyzing data for the following reasons\n",
    "\n",
    "- Easy to learn and use (relative to other programming languages)  \n",
    "- Designed with readability in mind  \n",
    "- Excellent tools for handling data efficiently and succinctly  \n",
    "- [Rapidly](https://stackoverflow.blog/2017/09/06/incredible-growth-python/)\n",
    "  becoming industry standard [for data analysis](https://stackoverflow.blog/2017/09/14/python-growing-quickly/)  \n",
    "- General purpose: Initially you will learn Python for data analysis, but it\n",
    "  can also used for websites, database management, web scraping, financial\n",
    "  modeling, data visualization, etc…  "
   ]
  },
  {
   "cell_type": "markdown",
   "metadata": {},
   "source": [
    "### Installation\n",
    "\n",
    "If you are accessing these materials via a Jupyter(Hub) server, you can skip\n",
    "this section\n",
    "\n",
    "If you are not viewing them on an already established Jupyter server, please\n",
    "follow the [local installation instructions](local_install.ipynb) and come back\n",
    "here when you are finished"
   ]
  },
  {
   "cell_type": "markdown",
   "metadata": {},
   "source": [
    "### Jupyter notebook basics\n",
    "\n",
    "There are a few things that we should know about Jupyter notebooks up front\n",
    "\n",
    "1. Notebooks are made up of cells  \n",
    "1. Cells have inputs and outputs  \n",
    "1. We use cells of two main types:  \n",
    "  1. Markdown cells\n",
    "    -  Contain [markdown](https://github.com/adam-p/markdown-here/wiki/Markdown-Here-Cheatsheet) text\n",
    "    -  Output is rendered in place of the input when the cell is executed  \n",
    "  1. Code cells\n",
    "    -  Contain Python (or other language) code\n",
    "    -  Inputs have an `In [ ]:` to the left\n",
    "    -  When executed, output placed below the input with `Out [ ]:` to the left  "
   ]
  },
  {
   "cell_type": "code",
   "execution_count": 1,
   "metadata": {
    "hide-output": false
   },
   "outputs": [
    {
     "data": {
      "text/plain": [
       "2"
      ]
     },
     "execution_count": 1,
     "metadata": {},
     "output_type": "execute_result"
    }
   ],
   "source": [
    "1 + 1"
   ]
  },
  {
   "cell_type": "markdown",
   "metadata": {},
   "source": [
    "#### Editing cells\n",
    "\n",
    "The selected cells can be in one of two modes:\n",
    "\n",
    "1. Command mode: This mode is for making high level changes to the notebook\n",
    "  itself. For example changing the order of cells, creating a new cell etc…  \n",
    "  - You know you’re in command mode when there is a blue sidebar on left of\n",
    "    cell  \n",
    "  - Pressing keys tells Jupyter notebook to run commands. For example, `a`\n",
    "    adds a new cell above the current cell, `b` adds one below the current\n",
    "    cell, and `dd` deletes the current cell  \n",
    "  - up arrow (or `k`) changes the selected cell to the cell above the\n",
    "    current one and down arrow (or `j`) changes to the cell below  \n",
    "1. Edit mode: Used when editing the content inside of cells.  \n",
    "  - When in edit mode the selected cell displays a green sidebar on left  \n",
    "  - Can edit the content of a cell  \n",
    "\n",
    "\n",
    "Some useful commands\n",
    "\n",
    "- To go from command mode to edit mode press enter or double click the mouse  \n",
    "- Go from edit mode to command mode by pressing escape  \n",
    "- You can evaluate a cell by pressing shift+enter (meaning shift and enter at\n",
    "  the same time)  \n",
    "\n",
    "\n",
    "<blockquote>\n",
    "\n",
    "**Check for understanding**\n",
    "\n",
    "In the *code* cell below (notice the `In [ ]:` to the left) type a quote(`\"`), your name, then another quote (`\"`) and evaluate the cell\n",
    "\n",
    "\n",
    "</blockquote>"
   ]
  },
  {
   "cell_type": "markdown",
   "metadata": {},
   "source": [
    "#### Getting help\n",
    "\n",
    "For more help with Jupyter notebook, see the `Help` menu at the top\n",
    "\n",
    "<blockquote>\n",
    "\n",
    "**Check for understanding**\n",
    "\n",
    "Experiment with the different options in the help menu. You might try items\n",
    "like “User Interface Tour” and “Keyboard Shortcuts”.\n",
    "\n",
    "\n",
    "</blockquote>"
   ]
  }
 ],
 "metadata": {
  "filename": "intro.rst",
  "kernelspec": {
   "display_name": "Python 3",
   "language": "python",
   "name": "python3"
  },
  "language_info": {
   "codemirror_mode": {
    "name": "ipython",
    "version": 3
   },
   "file_extension": ".py",
   "mimetype": "text/x-python",
   "name": "python",
   "nbconvert_exporter": "python",
   "pygments_lexer": "ipython3",
   "version": "3.6.6"
  },
  "title": "Introduction"
 },
 "nbformat": 4,
 "nbformat_minor": 2
}
