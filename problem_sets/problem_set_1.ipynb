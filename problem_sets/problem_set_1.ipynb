{
 "cells": [
  {
   "cell_type": "markdown",
   "metadata": {},
   "source": [
    "# QuantEcon Datascience: Problem Set 1"
   ]
  },
  {
   "cell_type": "markdown",
   "metadata": {},
   "source": [
    "## Question 1\n",
    "Below this cell, add one or more new markdown cells where you \n",
    "\n",
    "1. Markdown cell with\n",
    "  * two levels of headings;\n",
    "  * a numbered list;\n",
    "  * an unnumbered list;\n",
    "  * text with a \\% and a \\$ sign (hint: look at this cell! and https://www.markdownguide.org/basic-syntax/#characters-you-can-escape)\n",
    "  * backticked code (see https://github.com/adam-p/markdown-here/wiki/Markdown-Cheatsheet)\n",
    "2. Markdown cell displaying the quadratic formula (see https://en.wikipedia.org/wiki/Quadratic_formula) using LaTeX embedded in the cell (see https://jupyter-notebook.readthedocs.io/en/stable/examples/Notebook/Typesetting%20Equations.html)"
   ]
  },
  {
   "cell_type": "markdown",
   "metadata": {},
   "source": [
    "## Question 2\n",
    "\n",
    "Using the following code setting up variables ``a, b,`` and ``c``, find the roots of the following with the quadratic formula\n",
    "\n",
    "$$\n",
    "a x^2 + b x + c = 0\n",
    "$$\n",
    "\n"
   ]
  },
  {
   "cell_type": "code",
   "execution_count": 17,
   "metadata": {},
   "outputs": [],
   "source": [
    "a = 1.0\n",
    "b = 2.0\n",
    "c = 1.0\n",
    "# ADD CODE TO DISPLAY THE TWO ROOTS!"
   ]
  },
  {
   "cell_type": "markdown",
   "metadata": {},
   "source": [
    "## Question 3\n",
    "From a `basics.ipynb` check your understanding:\n",
    "\n",
    "<blockquote>\n",
    "\n",
    "**Check for understanding**\n",
    "\n",
    "We can use our introspection skills to see what is in a package.\n",
    "\n",
    "In the cell below use tab completion to find a function from the `time`\n",
    "module that will display the **local** time.\n",
    "\n",
    "Use `time.FUNC_NAME?` (where `FUNC_NAME` is replaced with the name\n",
    "of the function you found) to see information about that function and\n",
    "then call the function. (Hint: look for something to do with the word\n",
    "`local`).\n",
    "\n",
    "\n",
    "</blockquote>"
   ]
  },
  {
   "cell_type": "code",
   "execution_count": 18,
   "metadata": {},
   "outputs": [],
   "source": [
    "import time\n",
    "# YOUR CODE HERE"
   ]
  },
  {
   "cell_type": "markdown",
   "metadata": {},
   "source": [
    "## Question 4\n",
    "From a `basics.ipynb` check your understanding:\n",
    "<blockquote>\n",
    "\n",
    "**Check for understanding**\n",
    "\n",
    "Create the following variables\n",
    "\n",
    "- `D`: A floating point number with the value 10,000  \n",
    "- `r`: A floating point number with value 0.025  \n",
    "- `T`: An integer with value 30  \n",
    "\n",
    "Let’s compute the present discounted value of a payment ($ D $) made\n",
    "in $ T $ years assuming an interest rate of 2.5%. Save this value to\n",
    "a new variable called `PDV` and print your output\n",
    "\n",
    "Hint: The formula is\n",
    "\n",
    "$$\n",
    "\\text{PDV} = \\frac{D}{(1 + r)^T}\n",
    "$$\n",
    "\n",
    "</blockquote>"
   ]
  },
  {
   "cell_type": "code",
   "execution_count": 19,
   "metadata": {},
   "outputs": [],
   "source": [
    "# your code here"
   ]
  },
  {
   "cell_type": "markdown",
   "metadata": {},
   "source": [
    "## Question 5\n",
    "From a `basics.ipynb` check your understanding:\n",
    "<blockquote>\n",
    "\n",
    "**Check for understanding**\n",
    "\n",
    "Using the variables `x` and `y`, how could you create the sentence\n",
    "`Hello World`?\n",
    "\n",
    "Hint: Think about how to represent a space as a string.\n",
    "\n",
    "\n",
    "</blockquote>"
   ]
  },
  {
   "cell_type": "code",
   "execution_count": 20,
   "metadata": {},
   "outputs": [],
   "source": [
    "x = \"Hello\"\n",
    "y = \"World\"\n",
    "# YOUR CODE HERE"
   ]
  },
  {
   "cell_type": "markdown",
   "metadata": {},
   "source": [
    "## Question 6\n",
    "From a `basics.ipynb` check your understanding:\n",
    "<blockquote>\n",
    "\n",
    "**Check for understanding**\n",
    "\n",
    "Suppose you are working with price data and come across the value\n",
    "`\"$6.50\"`\n",
    "\n",
    "When Python tries to interpret this value, it ends up being the string\n",
    "`\"$6.50\"`, instead of the number `6.50` (Quiz: why is this a\n",
    "problem? Think about the examples above)\n",
    "\n",
    "In this exercise, your task is to convert the variable `price` below\n",
    "into a number\n",
    "\n",
    "*Hint*: Once the string is in a suitable format, you can call write\n",
    "`float(clean_price)` to make it a number\n",
    "\n",
    "\n",
    "</blockquote>"
   ]
  },
  {
   "cell_type": "code",
   "execution_count": 21,
   "metadata": {},
   "outputs": [],
   "source": [
    "price = \"$6.50\"\n",
    "# YOUR CODE HERE"
   ]
  },
  {
   "cell_type": "markdown",
   "metadata": {},
   "source": [
    "## Question 7\n",
    "From a `basics.ipynb` check your understanding:\n",
    "```\n",
    "    # Example with formatting\n",
    "    my_string = \"Hello {}\"\n",
    "    print(my_string.format(\"Gandalf\"))\n",
    "```    \n",
    "\n",
    "<blockquote>\n",
    "\n",
    "**Check for understanding**\n",
    "    \n",
    "Create a new string and use formatting to produce each of the following\n",
    "statements\n",
    "\n",
    "- “The 1st quarter revenue was \\$110M”  \n",
    "- “The 2nd quarter revenue was \\$95M”  \n",
    "- “The 3rd quarter revenue was \\$100M”  \n",
    "- “The 4th quarter revenue was \\$130M”  \n",
    "\n",
    "\n",
    "\n",
    "</blockquote>"
   ]
  },
  {
   "cell_type": "code",
   "execution_count": 22,
   "metadata": {},
   "outputs": [],
   "source": [
    "# YOUR CODE HERE"
   ]
  },
  {
   "cell_type": "markdown",
   "metadata": {},
   "source": [
    "## Question 8\n",
    "From a `collections.ipynb` check your understanding:\n",
    "<blockquote>\n",
    "\n",
    "**Check for understanding**\n",
    "\n",
    "Define two lists `y` and `z`\n",
    "\n",
    "They can contain **anything you want**\n",
    "\n",
    "Check what happens when you do `y + z`\n",
    "When you have finished that, try `2*x` and `x*2`\n",
    "\n",
    "Briefly explain\n",
    "\n",
    "\n",
    "</blockquote>"
   ]
  },
  {
   "cell_type": "code",
   "execution_count": 23,
   "metadata": {},
   "outputs": [],
   "source": [
    "y = [] # fill me in!\n",
    "z = [] # fill me in!"
   ]
  },
  {
   "cell_type": "code",
   "execution_count": null,
   "metadata": {},
   "outputs": [],
   "source": []
  }
 ],
 "metadata": {
  "kernelspec": {
   "display_name": "Python 3",
   "language": "python",
   "name": "python3"
  },
  "language_info": {
   "name": ""
  }
 },
 "nbformat": 4,
 "nbformat_minor": 2
}
