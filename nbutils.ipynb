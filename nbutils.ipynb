{
 "cells": [
  {
   "cell_type": "markdown",
   "metadata": {},
   "source": [
    "## Notebook Utilities \n",
    "\n",
    "Use this notebook to carry out different file operations\n",
    "\n",
    "**Note**: When running these commands, it's best to make sure you've closed out all other notebooks in the directory.\n",
    "\n",
    "Also, these commands assume that you haven't written any git history in this repo yourself (i.e., done any `merge`s, switched branches, made commits, etc.)"
   ]
  },
  {
   "cell_type": "markdown",
   "metadata": {},
   "source": [
    "----------------\n",
    "\n",
    "#### Undo All Local Changes\n",
    "\n",
    "Reset tracked notebooks to the last time you pulled\n",
    "\n",
    "Will undo your local changes\n",
    "\n",
    "This will not impact files you've created on your own"
   ]
  },
  {
   "cell_type": "code",
   "execution_count": 10,
   "metadata": {},
   "outputs": [
    {
     "name": "stdout",
     "output_type": "stream",
     "text": [
      "HEAD is now at e7afe75 Create README.md\n"
     ]
    }
   ],
   "source": [
    "! git reset --hard HEAD"
   ]
  },
  {
   "cell_type": "markdown",
   "metadata": {},
   "source": [
    "-------------\n",
    "\n",
    "#### Update Tracked Notebooks to Latest\n",
    "\n",
    "Do the above, but restore them to the latest on the server"
   ]
  },
  {
   "cell_type": "code",
   "execution_count": 11,
   "metadata": {},
   "outputs": [
    {
     "name": "stdout",
     "output_type": "stream",
     "text": [
      "HEAD is now at e7afe75 Create README.md\n"
     ]
    }
   ],
   "source": [
    "! git fetch; git reset --hard origin/master"
   ]
  },
  {
   "cell_type": "markdown",
   "metadata": {},
   "source": [
    "--------------"
   ]
  },
  {
   "cell_type": "markdown",
   "metadata": {},
   "source": [
    "#### Undo Local Changes to Specific Notebook\n",
    "\n",
    "Will check out to the last pull"
   ]
  },
  {
   "cell_type": "code",
   "execution_count": 14,
   "metadata": {},
   "outputs": [],
   "source": [
    "! git checkout -- test.ipynb"
   ]
  },
  {
   "cell_type": "markdown",
   "metadata": {},
   "source": [
    "---------------\n",
    "\n",
    "#### Update Specific Notebook\n",
    "\n",
    "Will restore to what's on the server"
   ]
  },
  {
   "cell_type": "code",
   "execution_count": 16,
   "metadata": {},
   "outputs": [],
   "source": [
    "! git fetch; git checkout -- test.ipynb"
   ]
  },
  {
   "cell_type": "markdown",
   "metadata": {},
   "source": [
    "------------\n",
    "\n",
    "#### Nuke All Changes\n",
    "\n",
    "Completely reset your folder to the latest on the server \n",
    "\n",
    "Will also delete your new files, etc."
   ]
  },
  {
   "cell_type": "code",
   "execution_count": 17,
   "metadata": {},
   "outputs": [
    {
     "name": "stdout",
     "output_type": "stream",
     "text": [
      "HEAD is now at e7afe75 Create README.md\n"
     ]
    }
   ],
   "source": [
    "! git clean -qfdx; git fetch; git reset --hard origin/master"
   ]
  },
  {
   "cell_type": "markdown",
   "metadata": {},
   "source": [
    "------------\n",
    "\n",
    "#### Update Unmodified Files\n",
    "\n",
    "Update "
   ]
  }
 ],
 "metadata": {
  "kernelspec": {
   "display_name": "Python 3",
   "language": "python",
   "name": "python3"
  },
  "language_info": {
   "codemirror_mode": {
    "name": "ipython",
    "version": 3
   },
   "file_extension": ".py",
   "mimetype": "text/x-python",
   "name": "python",
   "nbconvert_exporter": "python",
   "pygments_lexer": "ipython3",
   "version": "3.6.5"
  }
 },
 "nbformat": 4,
 "nbformat_minor": 2
}
